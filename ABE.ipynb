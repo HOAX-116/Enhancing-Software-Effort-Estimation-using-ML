{
 "cells": [
  {
   "cell_type": "code",
   "execution_count": 6,
   "id": "22258446-7d63-4011-92c7-70e616e5ca5d",
   "metadata": {},
   "outputs": [],
   "source": [
    "import pandas as pd\n",
    "import numpy as np\n",
    "from sklearn.model_selection import train_test_split "
   ]
  },
  {
   "cell_type": "code",
   "execution_count": 42,
   "id": "5b9d1ba3-625a-4ddb-a506-e4b329cfd70c",
   "metadata": {},
   "outputs": [],
   "source": [
    "df=pd.read_csv(\"/home/cheera/Documents/NITW /cocomo81.csv\")\n",
    "X=df.drop(columns=[\"actual\"])\n",
    "y=df[\"actual\"]"
   ]
  },
  {
   "cell_type": "code",
   "execution_count": 48,
   "id": "f07166db-5206-4f65-ab8c-e4de557c4fe4",
   "metadata": {},
   "outputs": [
    {
     "name": "stdout",
     "output_type": "stream",
     "text": [
      "16\n"
     ]
    }
   ],
   "source": [
    "X_train,X_test,y_train,y_test=train_test_split(X,y,test_size=0.3)\n",
    "print(len(X_train.columns))"
   ]
  },
  {
   "cell_type": "code",
   "execution_count": 56,
   "id": "bb38d1d2-6af1-4922-8944-284646697f06",
   "metadata": {},
   "outputs": [],
   "source": [
    "def Dis(f1,f2,is_numeric):\n",
    "    if is_numeric:\n",
    "        return np.abs(f1-f2)\n",
    "    elif(f1==f2):\n",
    "            return 0\n",
    "    return 1"
   ]
  },
  {
   "cell_type": "code",
   "execution_count": 1,
   "id": "7291aa56-3d97-4bec-a157-21d7332e1e97",
   "metadata": {},
   "outputs": [],
   "source": [
    "def Sim(p1,p2,w,delta=0.0001):\n",
    "    total_distance = 0\n",
    "    for i in range(len(p1)):\n",
    "        is_numeric = isinstance(p1[i], (int, float))\n",
    "        distance = Dis(p1[i], p2[i], is_numeric)\n",
    "        total_distance += w[i] * distance\n",
    "    return 1 / np.sqrt((total_distance + delta))\n",
    "    "
   ]
  },
  {
   "cell_type": "code",
   "execution_count": null,
   "id": "7cb5e684-da0d-4a09-a0eb-a2863eef815d",
   "metadata": {},
   "outputs": [],
   "source": []
  }
 ],
 "metadata": {
  "kernelspec": {
   "display_name": "Python 3 (ipykernel)",
   "language": "python",
   "name": "python3"
  },
  "language_info": {
   "codemirror_mode": {
    "name": "ipython",
    "version": 3
   },
   "file_extension": ".py",
   "mimetype": "text/x-python",
   "name": "python",
   "nbconvert_exporter": "python",
   "pygments_lexer": "ipython3",
   "version": "3.11.7"
  }
 },
 "nbformat": 4,
 "nbformat_minor": 5
}
